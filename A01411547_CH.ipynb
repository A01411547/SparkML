{
  "nbformat": 4,
  "nbformat_minor": 0,
  "metadata": {
    "colab": {
      "provenance": []
    },
    "kernelspec": {
      "name": "python3",
      "display_name": "Python 3"
    },
    "language_info": {
      "name": "python"
    }
  },
  "cells": [
    {
      "cell_type": "code",
      "execution_count": 1,
      "metadata": {
        "colab": {
          "base_uri": "https://localhost:8080/",
          "height": 730
        },
        "id": "e-xZwU0QkwRz",
        "outputId": "0d424fef-5ba1-433d-8686-02a91e5dafe1"
      },
      "outputs": [
        {
          "output_type": "stream",
          "name": "stdout",
          "text": [
            "\u001b[33m\r0% [Working]\u001b[0m\r            \rHit:1 http://archive.ubuntu.com/ubuntu bionic InRelease\n",
            "\u001b[33m\r0% [Waiting for headers] [Connecting to security.ubuntu.com (185.125.190.39)] [\u001b[0m\u001b[33m\r0% [1 InRelease gpgv 242 kB] [Waiting for headers] [Connecting to security.ubun\u001b[0m\r                                                                               \rGet:2 http://archive.ubuntu.com/ubuntu bionic-updates InRelease [88.7 kB]\n",
            "Get:3 https://cloud.r-project.org/bin/linux/ubuntu bionic-cran40/ InRelease [3,626 B]\n",
            "Get:4 http://security.ubuntu.com/ubuntu bionic-security InRelease [88.7 kB]\n",
            "Get:5 http://ppa.launchpad.net/c2d4u.team/c2d4u4.0+/ubuntu bionic InRelease [15.9 kB]\n",
            "Get:6 http://archive.ubuntu.com/ubuntu bionic-backports InRelease [83.3 kB]\n",
            "Ign:7 https://developer.download.nvidia.com/compute/machine-learning/repos/ubuntu1804/x86_64  InRelease\n",
            "Get:8 https://developer.download.nvidia.com/compute/cuda/repos/ubuntu1804/x86_64  InRelease [1,581 B]\n",
            "Hit:9 https://developer.download.nvidia.com/compute/machine-learning/repos/ubuntu1804/x86_64  Release\n",
            "Hit:10 http://ppa.launchpad.net/cran/libgit2/ubuntu bionic InRelease\n",
            "Get:11 http://ppa.launchpad.net/deadsnakes/ppa/ubuntu bionic InRelease [15.9 kB]\n",
            "Get:12 https://cloud.r-project.org/bin/linux/ubuntu bionic-cran40/ Packages [98.9 kB]\n",
            "Get:13 http://archive.ubuntu.com/ubuntu bionic-updates/universe amd64 Packages [2,332 kB]\n",
            "Hit:14 http://ppa.launchpad.net/graphics-drivers/ppa/ubuntu bionic InRelease\n",
            "Get:15 http://archive.ubuntu.com/ubuntu bionic-updates/main amd64 Packages [3,472 kB]\n",
            "Get:16 https://developer.download.nvidia.com/compute/cuda/repos/ubuntu1804/x86_64  Packages [992 kB]\n",
            "Get:17 http://archive.ubuntu.com/ubuntu bionic-updates/restricted amd64 Packages [1,267 kB]\n",
            "Get:19 http://ppa.launchpad.net/c2d4u.team/c2d4u4.0+/ubuntu bionic/main Sources [2,196 kB]\n",
            "Get:20 http://security.ubuntu.com/ubuntu bionic-security/universe amd64 Packages [1,554 kB]\n",
            "Get:21 http://security.ubuntu.com/ubuntu bionic-security/main amd64 Packages [3,035 kB]\n",
            "Get:22 http://ppa.launchpad.net/c2d4u.team/c2d4u4.0+/ubuntu bionic/main amd64 Packages [1,124 kB]\n",
            "Fetched 16.4 MB in 5s (3,539 kB/s)\n",
            "Reading package lists... Done\n",
            "Building dependency tree       \n",
            "Reading state information... Done\n",
            "22 packages can be upgraded. Run 'apt list --upgradable' to see them.\n",
            "Looking in indexes: https://pypi.org/simple, https://us-python.pkg.dev/colab-wheels/public/simple/\n",
            "Collecting pyspark\n",
            "  Downloading pyspark-3.3.1.tar.gz (281.4 MB)\n",
            "\u001b[K     |████████████████████████████████| 281.4 MB 42 kB/s \n",
            "\u001b[?25hCollecting py4j==0.10.9.5\n",
            "  Downloading py4j-0.10.9.5-py2.py3-none-any.whl (199 kB)\n",
            "\u001b[K     |████████████████████████████████| 199 kB 51.6 MB/s \n",
            "\u001b[?25hBuilding wheels for collected packages: pyspark\n",
            "  Building wheel for pyspark (setup.py) ... \u001b[?25l\u001b[?25hdone\n",
            "  Created wheel for pyspark: filename=pyspark-3.3.1-py2.py3-none-any.whl size=281845513 sha256=a331b61c5c8b8e8e8119720c593a9a7b2f5b1a6437dba3c8a92cce5dd7c6c43b\n",
            "  Stored in directory: /root/.cache/pip/wheels/42/59/f5/79a5bf931714dcd201b26025347785f087370a10a3329a899c\n",
            "Successfully built pyspark\n",
            "Installing collected packages: py4j, pyspark\n",
            "Successfully installed py4j-0.10.9.5 pyspark-3.3.1\n"
          ]
        },
        {
          "output_type": "execute_result",
          "data": {
            "text/plain": [
              "'/content/spark-3.2.2-bin-hadoop3.2'"
            ],
            "application/vnd.google.colaboratory.intrinsic+json": {
              "type": "string"
            }
          },
          "metadata": {},
          "execution_count": 1
        }
      ],
      "source": [
        "#Bibliotecas para poder trabajar con Spark\n",
        "!sudo apt update\n",
        "!apt-get install openjdk-8-jdk-headless -qq > /dev/null\n",
        "!wget -q https://downloads.apache.org/spark/spark-3.2.2//spark-3.2.2-bin-hadoop3.2.tgz\n",
        "!tar xf spark-3.2.2-bin-hadoop3.2.tgz\n",
        "#Configuración de Spark con Python\n",
        "!pip install -q findspark\n",
        "!pip install pyspark\n",
        "\n",
        "#Estableciendo variable de entorno\n",
        "import os\n",
        "os.environ[\"JAVA_HOME\"] = \"/usr/lib/jvm/java-8-openjdk-amd64\"\n",
        "os.environ[\"SPARK_HOME\"] = \"/content/spark-3.2.2-bin-hadoop3.2\"\n",
        "\n",
        "#Buscando e inicializando la instalación de Spark\n",
        "import findspark\n",
        "findspark.init()\n",
        "findspark.find()"
      ]
    },
    {
      "cell_type": "code",
      "source": [
        "from google.colab import drive\n",
        "drive.mount(\"/content/gdrive\")\n",
        "%cd \"/content/gdrive/MyDrive/\"\n",
        "%ls"
      ],
      "metadata": {
        "colab": {
          "base_uri": "https://localhost:8080/"
        },
        "id": "Bn5gPp_4mHzw",
        "outputId": "0805ae03-a605-48cc-8d9b-a0098bed49b1"
      },
      "execution_count": 2,
      "outputs": [
        {
          "output_type": "stream",
          "name": "stdout",
          "text": [
            "Mounted at /content/gdrive\n",
            "/content/gdrive/MyDrive\n",
            " 1080p-1.mov\n",
            " 1080p.mov\n",
            "'720p (1).mov'\n",
            " 720p.mov\n",
            " 7D47FD58-1286-48FA-8A93-F8BB2BD07C7E.png\n",
            "'Act. De la comunicación no sexista....gdoc'\n",
            "'Actividad 2.pptx'\n",
            "'Actividad 3.3.gslides'\n",
            "'Actividad: Análisis de verbos y obligados del artículo 1 de la CPEUM.gdoc'\n",
            "'analisis de software.gslides'\n",
            "'avance 2 situacion problema.docx'\n",
            "'avtividad 3.pptx'\n",
            " Bitácora.gdoc\n",
            "\u001b[0m\u001b[01;34m'Carolina, cata y Brenda videos'\u001b[0m/\n",
            "'Carolina Herrera mtz. A01411547 Diagrama de clases.pptx'\n",
            " carolina.mp4\n",
            "'Caso 1, Equipo 5.gdoc'\n",
            "'Caso para el lunes.gdoc'\n",
            "'Casos de uso evaluacion .gdoc'\n",
            "\u001b[01;34m'Colab Notebooks'\u001b[0m/\n",
            "'Comunicacion, lenguaje incluyente.gdoc'\n",
            "'Copia de UAR caro.gdoc'\n",
            " cut.docx\n",
            "'doc 2022 entrevista.docx'\n",
            " EB99539B-B2C3-4F01-8FBB-F95E70315C04.png\n",
            " EFACE064-C438-4BE1-A943-4E1A3251F334.png\n",
            "'fase 2.gsheet'\n",
            "'Formato_cuaderno_de_campo caro.docx'\n",
            "'Formulario sin título (1).gform'\n",
            "'Formulario sin título (2).gform'\n",
            "'Formulario sin título.gform'\n",
            " Freedom.gdoc\n",
            "'Gender social media watch.gdoc'\n",
            "'Historia hunter y alan.mp4'\n",
            " \u001b[01;34mIA\u001b[0m/\n",
            " IMG_0074.MOV\n",
            " IMG_0076.MOV\n",
            " IMG_0216.HEIC\n",
            " IMG_0217.HEIC\n",
            " IMG_0237.HEIC\n",
            " IMG_0238.HEIC\n",
            " IMG_0240.HEIC\n",
            " IMG_0444.HEIC\n",
            " IMG_5131.MOV\n",
            " IMG_5132.MOV\n",
            " IMG_6270.jpg\n",
            " IMG_6272.jpg\n",
            " IMG_8219.MOV\n",
            " IMG_8268.MOV\n",
            "'INSTITUTO TECNOLÓGICO Y DE ESTUDIOS SUPERIORES DE MONTERREY.gdoc'\n",
            "'Internet de las cosas.gslides'\n",
            " Madagascar.gslides\n",
            " Madagascar.pptx\n",
            "'Mapa conceptual.pptx'\n",
            " mateoral.mp4\n",
            "'metodo euler video.mp4'\n",
            "'Modelacion de sistemas.gslides'\n",
            " mvp.pptx\n",
            " nefro.drawio.png\n",
            " new-5c-20piktoc_18006357.png\n",
            " new-5c-20piktoc_18006357.zip\n",
            "'new-piktochart_33653208 (1).png'\n",
            "'new-piktochart_33653208 (2).png'\n",
            "'Obesidad en Queretaro.gdoc'\n",
            "'Ponle salud a tu vida, final..gdoc'\n",
            "'Premio Nacional act..gslides'\n",
            "'Presentación Reto Modulo 4.gslides'\n",
            "'Presentación sin título.gslides'\n",
            " programacion.gslides\n",
            "'programa de noche.mp4'\n",
            "'Pruebas no funcionales caro.gdoc'\n",
            " Pyhton.gdoc\n",
            "'¿Qué es la sustentabilidad?.gdoc'\n",
            " Reflexión.gdoc\n",
            " RegistroNutricional.gsheet\n",
            "'Relfexión Bloque 2 CH.gdoc'\n",
            "'Repaso chino.gslides'\n",
            "'Reporte de Práctica #2.docx'\n",
            "'report madagascar.gdoc'\n",
            "'RESUME-carolina English.docx'\n",
            "'RESUME carolina herrera MD.pdf'\n",
            "'RESUME-carolina MD.pdf'\n",
            "'Resumen de Metodologias de Innovacion.gslides'\n",
            "'Resumen primer bloque Carolina Herrera.docx'\n",
            "'RK2 video.mp4'\n",
            " sampleSubmission.csv\n",
            " sampleSubmission.gz\n",
            "'Semana 2 proyectos.docx'\n",
            "'Sin título.mp4'\n",
            " SistemasMultiagentes.rar\n",
            "'Taller 4. Ciudades Inteligentes..gslides'\n",
            " test.csv\n",
            " test.gz\n",
            " train.csv\n",
            " train.gz\n",
            "'Ultimo video.mp4'\n",
            " umuamua.mp4\n",
            "\u001b[01;34m'video and writing'\u001b[0m/\n",
            "'video reto.mp4'\n",
            "\u001b[01;34m'Videos de proyecto final '\u001b[0m/\n",
            "\u001b[01;34m'Videos de resiliencia '\u001b[0m/\n",
            "'XILITLA FOTOS 1.zip'\n",
            "'XILITLA FOTOS 2.zip'\n",
            " zoom_0.mp4\n"
          ]
        }
      ]
    },
    {
      "cell_type": "code",
      "source": [
        "#Verificar la funcionalidad de Pyspark \n",
        "from pyspark.sql import SparkSession\n",
        "spark_session = SparkSession.builder.appName('PySpark_prueba1').getOrCreate()\n",
        "spark_session"
      ],
      "metadata": {
        "colab": {
          "base_uri": "https://localhost:8080/",
          "height": 219
        },
        "id": "oazGuchOqshO",
        "outputId": "b5a5262d-a7b3-46f5-d36c-731ea59c057d"
      },
      "execution_count": 3,
      "outputs": [
        {
          "output_type": "execute_result",
          "data": {
            "text/plain": [
              "<pyspark.sql.session.SparkSession at 0x7fdd6c487190>"
            ],
            "text/html": [
              "\n",
              "            <div>\n",
              "                <p><b>SparkSession - in-memory</b></p>\n",
              "                \n",
              "        <div>\n",
              "            <p><b>SparkContext</b></p>\n",
              "\n",
              "            <p><a href=\"http://6558375b16f7:4040\">Spark UI</a></p>\n",
              "\n",
              "            <dl>\n",
              "              <dt>Version</dt>\n",
              "                <dd><code>v3.2.2</code></dd>\n",
              "              <dt>Master</dt>\n",
              "                <dd><code>local[*]</code></dd>\n",
              "              <dt>AppName</dt>\n",
              "                <dd><code>PySpark_prueba1</code></dd>\n",
              "            </dl>\n",
              "        </div>\n",
              "        \n",
              "            </div>\n",
              "        "
            ]
          },
          "metadata": {},
          "execution_count": 3
        }
      ]
    },
    {
      "cell_type": "code",
      "source": [
        "df_spark = spark_session.read.option(\"header\",\"true\").csv('train.csv')\n",
        "df_spark.show()"
      ],
      "metadata": {
        "colab": {
          "base_uri": "https://localhost:8080/"
        },
        "id": "VR34rwoMrAnn",
        "outputId": "a2bcc196-73fa-4f89-e7aa-23d814c32d73"
      },
      "execution_count": 4,
      "outputs": [
        {
          "output_type": "stream",
          "name": "stdout",
          "text": [
            "+--------------------+-----+--------+----+----------+--------+-----------+-------------+--------+----------+------------+---------+---------+------------+-----------+----------------+-----+---+---+----+---+---+------+---+\n",
            "|                  id|click|    hour|  C1|banner_pos| site_id|site_domain|site_category|  app_id|app_domain|app_category|device_id|device_ip|device_model|device_type|device_conn_type|  C14|C15|C16| C17|C18|C19|   C20|C21|\n",
            "+--------------------+-----+--------+----+----------+--------+-----------+-------------+--------+----------+------------+---------+---------+------------+-----------+----------------+-----+---+---+----+---+---+------+---+\n",
            "| 1000009418151094273|    0|14102100|1005|         0|1fbe01fe|   f3845767|     28905ebd|ecad2386|  7801e8d9|    07d7df22| a99f214a| ddd2926e|    44956a24|          1|               2|15706|320| 50|1722|  0| 35|    -1| 79|\n",
            "|10000169349117863715|    0|14102100|1005|         0|1fbe01fe|   f3845767|     28905ebd|ecad2386|  7801e8d9|    07d7df22| a99f214a| 96809ac8|    711ee120|          1|               0|15704|320| 50|1722|  0| 35|100084| 79|\n",
            "|10000371904215119486|    0|14102100|1005|         0|1fbe01fe|   f3845767|     28905ebd|ecad2386|  7801e8d9|    07d7df22| a99f214a| b3cf8def|    8a4875bd|          1|               0|15704|320| 50|1722|  0| 35|100084| 79|\n",
            "|10000640724480838376|    0|14102100|1005|         0|1fbe01fe|   f3845767|     28905ebd|ecad2386|  7801e8d9|    07d7df22| a99f214a| e8275b8f|    6332421a|          1|               0|15706|320| 50|1722|  0| 35|100084| 79|\n",
            "|10000679056417042096|    0|14102100|1005|         1|fe8cc448|   9166c161|     0569f928|ecad2386|  7801e8d9|    07d7df22| a99f214a| 9644d0bf|    779d90c2|          1|               0|18993|320| 50|2161|  0| 35|    -1|157|\n",
            "|10000720757801103869|    0|14102100|1005|         0|d6137915|   bb1ef334|     f028772b|ecad2386|  7801e8d9|    07d7df22| a99f214a| 05241af0|    8a4875bd|          1|               0|16920|320| 50|1899|  0|431|100077|117|\n",
            "|10000724729988544911|    0|14102100|1005|         0|8fda644b|   25d4cfcd|     f028772b|ecad2386|  7801e8d9|    07d7df22| a99f214a| b264c159|    be6db1d7|          1|               0|20362|320| 50|2333|  0| 39|    -1|157|\n",
            "|10000918755742328737|    0|14102100|1005|         1|e151e245|   7e091613|     f028772b|ecad2386|  7801e8d9|    07d7df22| a99f214a| e6f67278|    be74e6fe|          1|               0|20632|320| 50|2374|  3| 39|    -1| 23|\n",
            "|10000949271186029916|    1|14102100|1005|         0|1fbe01fe|   f3845767|     28905ebd|ecad2386|  7801e8d9|    07d7df22| a99f214a| 37e8da74|    5db079b5|          1|               2|15707|320| 50|1722|  0| 35|    -1| 79|\n",
            "|10001264480619467364|    0|14102100|1002|         0|84c7ba46|   c4e18dd6|     50e219e0|ecad2386|  7801e8d9|    07d7df22| c357dbff| f1ac7184|    373ecbe6|          0|               0|21689|320| 50|2496|  3|167|100191| 23|\n",
            "|10001868339616595934|    0|14102100|1005|         1|e151e245|   7e091613|     f028772b|ecad2386|  7801e8d9|    07d7df22| a99f214a| 5d877109|    8f5c9827|          1|               0|17747|320| 50|1974|  2| 39|100019| 33|\n",
            "|10001966791793526909|    0|14102100|1005|         0|1fbe01fe|   f3845767|     28905ebd|ecad2386|  7801e8d9|    07d7df22| a99f214a| 6f407810|    1f0bc64f|          1|               0|15701|320| 50|1722|  0| 35|    -1| 79|\n",
            "|10002028568167339219|    0|14102100|1005|         0|9e8cf15d|   0d3cb7be|     f028772b|ecad2386|  7801e8d9|    07d7df22| a99f214a| 58811cdf|    8326c04b|          1|               2|20596|320| 50|2161|  0| 35|100148|157|\n",
            "|10002044883120869786|    0|14102100|1005|         0|d6137915|   bb1ef334|     f028772b|ecad2386|  7801e8d9|    07d7df22| a99f214a| 72aab6df|    04258293|          1|               0|19771|320| 50|2227|  0|687|100077| 48|\n",
            "|10002518649031436658|    0|14102100|1005|         0|85f751fd|   c4e18dd6|     50e219e0|98fed791|  d9b5648e|    0f2161f8| a99f214a| 6dec2796|    aad45b01|          1|               0|20984|320| 50|2371|  0|551|    -1| 46|\n",
            "|10003539039235338011|    0|14102100|1005|         0|1fbe01fe|   f3845767|     28905ebd|ecad2386|  7801e8d9|    07d7df22| a99f214a| a4f47b2e|    8a4875bd|          1|               0|15699|320| 50|1722|  0| 35|100084| 79|\n",
            "|10003585669470236873|    0|14102100|1005|         0|d9750ee7|   98572c79|     f028772b|ecad2386|  7801e8d9|    07d7df22| a99f214a| 9b1fe278|    128f4ba1|          1|               0|17914|320| 50|2043|  2| 39|    -1| 32|\n",
            "|10004105575081229495|    0|14102100|1005|         0|1fbe01fe|   f3845767|     28905ebd|ecad2386|  7801e8d9|    07d7df22| a99f214a| c26c53cf|    be87996b|          1|               2|15708|320| 50|1722|  0| 35|100084| 79|\n",
            "|10004181428767727519|    0|14102100|1005|         1|0c2fe9d6|   27e3c518|     28905ebd|ecad2386|  7801e8d9|    07d7df22| a99f214a| b7a69808|    158e4944|          1|               0| 6558|320| 50| 571|  2| 39|    -1| 32|\n",
            "|10004482643316086592|    0|14102100|1005|         0|85f751fd|   c4e18dd6|     50e219e0|66a5f0f3|  d9b5648e|    cef3e649| a99f214a| fa60af6b|    b4b19c97|          1|               0|21234|320| 50|2434|  3|163|100088| 61|\n",
            "+--------------------+-----+--------+----+----------+--------+-----------+-------------+--------+----------+------------+---------+---------+------------+-----------+----------------+-----+---+---+----+---+---+------+---+\n",
            "only showing top 20 rows\n",
            "\n"
          ]
        }
      ]
    },
    {
      "cell_type": "code",
      "source": [
        "df_spark = df_spark.select(\"id\", \"click\", \"hour\", \"banner_pos\", \"site_category\",\"app_category\",\"device_type\")\n",
        "df_spark.show()"
      ],
      "metadata": {
        "colab": {
          "base_uri": "https://localhost:8080/"
        },
        "id": "fYrzGawUrXo8",
        "outputId": "e85ac61c-b0ba-406a-96a1-88a6757e873c"
      },
      "execution_count": 5,
      "outputs": [
        {
          "output_type": "stream",
          "name": "stdout",
          "text": [
            "+--------------------+-----+--------+----------+-------------+------------+-----------+\n",
            "|                  id|click|    hour|banner_pos|site_category|app_category|device_type|\n",
            "+--------------------+-----+--------+----------+-------------+------------+-----------+\n",
            "| 1000009418151094273|    0|14102100|         0|     28905ebd|    07d7df22|          1|\n",
            "|10000169349117863715|    0|14102100|         0|     28905ebd|    07d7df22|          1|\n",
            "|10000371904215119486|    0|14102100|         0|     28905ebd|    07d7df22|          1|\n",
            "|10000640724480838376|    0|14102100|         0|     28905ebd|    07d7df22|          1|\n",
            "|10000679056417042096|    0|14102100|         1|     0569f928|    07d7df22|          1|\n",
            "|10000720757801103869|    0|14102100|         0|     f028772b|    07d7df22|          1|\n",
            "|10000724729988544911|    0|14102100|         0|     f028772b|    07d7df22|          1|\n",
            "|10000918755742328737|    0|14102100|         1|     f028772b|    07d7df22|          1|\n",
            "|10000949271186029916|    1|14102100|         0|     28905ebd|    07d7df22|          1|\n",
            "|10001264480619467364|    0|14102100|         0|     50e219e0|    07d7df22|          0|\n",
            "|10001868339616595934|    0|14102100|         1|     f028772b|    07d7df22|          1|\n",
            "|10001966791793526909|    0|14102100|         0|     28905ebd|    07d7df22|          1|\n",
            "|10002028568167339219|    0|14102100|         0|     f028772b|    07d7df22|          1|\n",
            "|10002044883120869786|    0|14102100|         0|     f028772b|    07d7df22|          1|\n",
            "|10002518649031436658|    0|14102100|         0|     50e219e0|    0f2161f8|          1|\n",
            "|10003539039235338011|    0|14102100|         0|     28905ebd|    07d7df22|          1|\n",
            "|10003585669470236873|    0|14102100|         0|     f028772b|    07d7df22|          1|\n",
            "|10004105575081229495|    0|14102100|         0|     28905ebd|    07d7df22|          1|\n",
            "|10004181428767727519|    0|14102100|         1|     28905ebd|    07d7df22|          1|\n",
            "|10004482643316086592|    0|14102100|         0|     50e219e0|    cef3e649|          1|\n",
            "+--------------------+-----+--------+----------+-------------+------------+-----------+\n",
            "only showing top 20 rows\n",
            "\n"
          ]
        }
      ]
    },
    {
      "cell_type": "code",
      "source": [
        "from pyspark.sql import SparkSession\n",
        "\n",
        "df_ml = SparkSession.builder.appName('Barato').getOrCreate()\n",
        "df_ml"
      ],
      "metadata": {
        "colab": {
          "base_uri": "https://localhost:8080/",
          "height": 219
        },
        "id": "_jUVnoM0-QJR",
        "outputId": "0ef2dc98-a771-4476-ec64-d7d136e2c3bf"
      },
      "execution_count": 6,
      "outputs": [
        {
          "output_type": "execute_result",
          "data": {
            "text/plain": [
              "<pyspark.sql.session.SparkSession at 0x7fdd6c487190>"
            ],
            "text/html": [
              "\n",
              "            <div>\n",
              "                <p><b>SparkSession - in-memory</b></p>\n",
              "                \n",
              "        <div>\n",
              "            <p><b>SparkContext</b></p>\n",
              "\n",
              "            <p><a href=\"http://6558375b16f7:4040\">Spark UI</a></p>\n",
              "\n",
              "            <dl>\n",
              "              <dt>Version</dt>\n",
              "                <dd><code>v3.2.2</code></dd>\n",
              "              <dt>Master</dt>\n",
              "                <dd><code>local[*]</code></dd>\n",
              "              <dt>AppName</dt>\n",
              "                <dd><code>PySpark_prueba1</code></dd>\n",
              "            </dl>\n",
              "        </div>\n",
              "        \n",
              "            </div>\n",
              "        "
            ]
          },
          "metadata": {},
          "execution_count": 6
        }
      ]
    },
    {
      "cell_type": "code",
      "source": [
        "\n",
        "training_dataset  = df_spark\n",
        "training_dataset"
      ],
      "metadata": {
        "colab": {
          "base_uri": "https://localhost:8080/"
        },
        "id": "KhRK1shLtlNf",
        "outputId": "d4fe409f-dd3f-48f1-ca0e-d49345d5e790"
      },
      "execution_count": 7,
      "outputs": [
        {
          "output_type": "execute_result",
          "data": {
            "text/plain": [
              "DataFrame[id: string, click: string, hour: string, banner_pos: string, site_category: string, app_category: string, device_type: string]"
            ]
          },
          "metadata": {},
          "execution_count": 7
        }
      ]
    },
    {
      "cell_type": "code",
      "source": [
        "training_dataset.show()"
      ],
      "metadata": {
        "colab": {
          "base_uri": "https://localhost:8080/"
        },
        "id": "j7ebZ3vZt4Vv",
        "outputId": "50d32550-34ef-4987-a383-550d9ab9226b"
      },
      "execution_count": 8,
      "outputs": [
        {
          "output_type": "stream",
          "name": "stdout",
          "text": [
            "+--------------------+-----+--------+----------+-------------+------------+-----------+\n",
            "|                  id|click|    hour|banner_pos|site_category|app_category|device_type|\n",
            "+--------------------+-----+--------+----------+-------------+------------+-----------+\n",
            "| 1000009418151094273|    0|14102100|         0|     28905ebd|    07d7df22|          1|\n",
            "|10000169349117863715|    0|14102100|         0|     28905ebd|    07d7df22|          1|\n",
            "|10000371904215119486|    0|14102100|         0|     28905ebd|    07d7df22|          1|\n",
            "|10000640724480838376|    0|14102100|         0|     28905ebd|    07d7df22|          1|\n",
            "|10000679056417042096|    0|14102100|         1|     0569f928|    07d7df22|          1|\n",
            "|10000720757801103869|    0|14102100|         0|     f028772b|    07d7df22|          1|\n",
            "|10000724729988544911|    0|14102100|         0|     f028772b|    07d7df22|          1|\n",
            "|10000918755742328737|    0|14102100|         1|     f028772b|    07d7df22|          1|\n",
            "|10000949271186029916|    1|14102100|         0|     28905ebd|    07d7df22|          1|\n",
            "|10001264480619467364|    0|14102100|         0|     50e219e0|    07d7df22|          0|\n",
            "|10001868339616595934|    0|14102100|         1|     f028772b|    07d7df22|          1|\n",
            "|10001966791793526909|    0|14102100|         0|     28905ebd|    07d7df22|          1|\n",
            "|10002028568167339219|    0|14102100|         0|     f028772b|    07d7df22|          1|\n",
            "|10002044883120869786|    0|14102100|         0|     f028772b|    07d7df22|          1|\n",
            "|10002518649031436658|    0|14102100|         0|     50e219e0|    0f2161f8|          1|\n",
            "|10003539039235338011|    0|14102100|         0|     28905ebd|    07d7df22|          1|\n",
            "|10003585669470236873|    0|14102100|         0|     f028772b|    07d7df22|          1|\n",
            "|10004105575081229495|    0|14102100|         0|     28905ebd|    07d7df22|          1|\n",
            "|10004181428767727519|    0|14102100|         1|     28905ebd|    07d7df22|          1|\n",
            "|10004482643316086592|    0|14102100|         0|     50e219e0|    cef3e649|          1|\n",
            "+--------------------+-----+--------+----------+-------------+------------+-----------+\n",
            "only showing top 20 rows\n",
            "\n"
          ]
        }
      ]
    },
    {
      "cell_type": "code",
      "source": [
        "training_dataset.printSchema()"
      ],
      "metadata": {
        "colab": {
          "base_uri": "https://localhost:8080/"
        },
        "id": "GC2nIi9tt8oJ",
        "outputId": "e8fc0b2c-79fa-4eff-a417-9ec7517703a6"
      },
      "execution_count": 9,
      "outputs": [
        {
          "output_type": "stream",
          "name": "stdout",
          "text": [
            "root\n",
            " |-- id: string (nullable = true)\n",
            " |-- click: string (nullable = true)\n",
            " |-- hour: string (nullable = true)\n",
            " |-- banner_pos: string (nullable = true)\n",
            " |-- site_category: string (nullable = true)\n",
            " |-- app_category: string (nullable = true)\n",
            " |-- device_type: string (nullable = true)\n",
            "\n"
          ]
        }
      ]
    },
    {
      "cell_type": "code",
      "source": [
        "training_dataset.columns"
      ],
      "metadata": {
        "colab": {
          "base_uri": "https://localhost:8080/"
        },
        "id": "c9_CL0pLt_7u",
        "outputId": "2b7a8e69-a3af-4346-849a-54338ce2d645"
      },
      "execution_count": 10,
      "outputs": [
        {
          "output_type": "execute_result",
          "data": {
            "text/plain": [
              "['id',\n",
              " 'click',\n",
              " 'hour',\n",
              " 'banner_pos',\n",
              " 'site_category',\n",
              " 'app_category',\n",
              " 'device_type']"
            ]
          },
          "metadata": {},
          "execution_count": 10
        }
      ]
    },
    {
      "cell_type": "code",
      "source": [
        "from pyspark.sql.functions import column\n",
        "training_dataset=training_dataset.withColumn(\"banner_pos\",column(\"banner_pos\").cast(\"int\"))\n",
        "training_dataset=training_dataset.withColumn(\"device_type\",column(\"device_type\").cast(\"int\"))\n",
        "training_dataset=training_dataset.withColumn(\"hour\",column(\"hour\").cast(\"int\"))\n",
        "training_dataset=training_dataset.withColumn(\"click\",column(\"click\").cast(\"int\"))"
      ],
      "metadata": {
        "id": "v7B9MiDfxO-L"
      },
      "execution_count": 14,
      "outputs": []
    },
    {
      "cell_type": "code",
      "source": [
        "from pyspark.ml.feature import VectorAssembler\n",
        "\n",
        "featassembler = VectorAssembler(inputCols=[\"hour\", \"banner_pos\",\"device_type\"], outputCol = \"Independent Features\" )\n",
        "featassembler"
      ],
      "metadata": {
        "colab": {
          "base_uri": "https://localhost:8080/"
        },
        "id": "2XWyVFwSuDyW",
        "outputId": "a3741b6f-510e-40a2-8a84-8004b62376a3"
      },
      "execution_count": 15,
      "outputs": [
        {
          "output_type": "execute_result",
          "data": {
            "text/plain": [
              "VectorAssembler_a0f1b2192103"
            ]
          },
          "metadata": {},
          "execution_count": 15
        }
      ]
    },
    {
      "cell_type": "code",
      "source": [
        "result = featassembler.transform(training_dataset)\n",
        "result.show()"
      ],
      "metadata": {
        "colab": {
          "base_uri": "https://localhost:8080/"
        },
        "id": "ide8kBgDuJ76",
        "outputId": "fd91246f-e13e-4419-f284-2c455222d12f"
      },
      "execution_count": 16,
      "outputs": [
        {
          "output_type": "stream",
          "name": "stdout",
          "text": [
            "+--------------------+-----+--------+----------+-------------+------------+-----------+--------------------+\n",
            "|                  id|click|    hour|banner_pos|site_category|app_category|device_type|Independent Features|\n",
            "+--------------------+-----+--------+----------+-------------+------------+-----------+--------------------+\n",
            "| 1000009418151094273|    0|14102100|         0|     28905ebd|    07d7df22|          1| [1.41021E7,0.0,1.0]|\n",
            "|10000169349117863715|    0|14102100|         0|     28905ebd|    07d7df22|          1| [1.41021E7,0.0,1.0]|\n",
            "|10000371904215119486|    0|14102100|         0|     28905ebd|    07d7df22|          1| [1.41021E7,0.0,1.0]|\n",
            "|10000640724480838376|    0|14102100|         0|     28905ebd|    07d7df22|          1| [1.41021E7,0.0,1.0]|\n",
            "|10000679056417042096|    0|14102100|         1|     0569f928|    07d7df22|          1| [1.41021E7,1.0,1.0]|\n",
            "|10000720757801103869|    0|14102100|         0|     f028772b|    07d7df22|          1| [1.41021E7,0.0,1.0]|\n",
            "|10000724729988544911|    0|14102100|         0|     f028772b|    07d7df22|          1| [1.41021E7,0.0,1.0]|\n",
            "|10000918755742328737|    0|14102100|         1|     f028772b|    07d7df22|          1| [1.41021E7,1.0,1.0]|\n",
            "|10000949271186029916|    1|14102100|         0|     28905ebd|    07d7df22|          1| [1.41021E7,0.0,1.0]|\n",
            "|10001264480619467364|    0|14102100|         0|     50e219e0|    07d7df22|          0| [1.41021E7,0.0,0.0]|\n",
            "|10001868339616595934|    0|14102100|         1|     f028772b|    07d7df22|          1| [1.41021E7,1.0,1.0]|\n",
            "|10001966791793526909|    0|14102100|         0|     28905ebd|    07d7df22|          1| [1.41021E7,0.0,1.0]|\n",
            "|10002028568167339219|    0|14102100|         0|     f028772b|    07d7df22|          1| [1.41021E7,0.0,1.0]|\n",
            "|10002044883120869786|    0|14102100|         0|     f028772b|    07d7df22|          1| [1.41021E7,0.0,1.0]|\n",
            "|10002518649031436658|    0|14102100|         0|     50e219e0|    0f2161f8|          1| [1.41021E7,0.0,1.0]|\n",
            "|10003539039235338011|    0|14102100|         0|     28905ebd|    07d7df22|          1| [1.41021E7,0.0,1.0]|\n",
            "|10003585669470236873|    0|14102100|         0|     f028772b|    07d7df22|          1| [1.41021E7,0.0,1.0]|\n",
            "|10004105575081229495|    0|14102100|         0|     28905ebd|    07d7df22|          1| [1.41021E7,0.0,1.0]|\n",
            "|10004181428767727519|    0|14102100|         1|     28905ebd|    07d7df22|          1| [1.41021E7,1.0,1.0]|\n",
            "|10004482643316086592|    0|14102100|         0|     50e219e0|    cef3e649|          1| [1.41021E7,0.0,1.0]|\n",
            "+--------------------+-----+--------+----------+-------------+------------+-----------+--------------------+\n",
            "only showing top 20 rows\n",
            "\n"
          ]
        }
      ]
    },
    {
      "cell_type": "code",
      "source": [
        "final_data = result.select(\"Independent features\", \"click\")\n",
        "final_data.show()"
      ],
      "metadata": {
        "colab": {
          "base_uri": "https://localhost:8080/"
        },
        "id": "U4d_DtyvuO7P",
        "outputId": "02071272-3fa0-43b0-e3aa-0bad9430c486"
      },
      "execution_count": 17,
      "outputs": [
        {
          "output_type": "stream",
          "name": "stdout",
          "text": [
            "+--------------------+-----+\n",
            "|Independent features|click|\n",
            "+--------------------+-----+\n",
            "| [1.41021E7,0.0,1.0]|    0|\n",
            "| [1.41021E7,0.0,1.0]|    0|\n",
            "| [1.41021E7,0.0,1.0]|    0|\n",
            "| [1.41021E7,0.0,1.0]|    0|\n",
            "| [1.41021E7,1.0,1.0]|    0|\n",
            "| [1.41021E7,0.0,1.0]|    0|\n",
            "| [1.41021E7,0.0,1.0]|    0|\n",
            "| [1.41021E7,1.0,1.0]|    0|\n",
            "| [1.41021E7,0.0,1.0]|    1|\n",
            "| [1.41021E7,0.0,0.0]|    0|\n",
            "| [1.41021E7,1.0,1.0]|    0|\n",
            "| [1.41021E7,0.0,1.0]|    0|\n",
            "| [1.41021E7,0.0,1.0]|    0|\n",
            "| [1.41021E7,0.0,1.0]|    0|\n",
            "| [1.41021E7,0.0,1.0]|    0|\n",
            "| [1.41021E7,0.0,1.0]|    0|\n",
            "| [1.41021E7,0.0,1.0]|    0|\n",
            "| [1.41021E7,0.0,1.0]|    0|\n",
            "| [1.41021E7,1.0,1.0]|    0|\n",
            "| [1.41021E7,0.0,1.0]|    0|\n",
            "+--------------------+-----+\n",
            "only showing top 20 rows\n",
            "\n"
          ]
        }
      ]
    },
    {
      "cell_type": "code",
      "source": [
        "train_data, test_data = final_data.randomSplit([0.75, 0.25])"
      ],
      "metadata": {
        "id": "zcRXoivVuScC"
      },
      "execution_count": 18,
      "outputs": []
    },
    {
      "cell_type": "code",
      "source": [
        "from pyspark.ml.regression import LinearRegression\n",
        "\n",
        "model = LinearRegression(featuresCol = 'Independent features', labelCol='click')\n",
        "model = model.fit(train_data)"
      ],
      "metadata": {
        "id": "Zn4GUegHuV-t"
      },
      "execution_count": 19,
      "outputs": []
    },
    {
      "cell_type": "code",
      "source": [
        "from pyspark.ml.stat import Correlation\n",
        "\n",
        "matrix = Correlation.corr(final_data, 'Independent features')\n",
        "cor_np = matrix.collect()[0][matrix.columns[0]].toArray()\n",
        "cor_np"
      ],
      "metadata": {
        "colab": {
          "base_uri": "https://localhost:8080/"
        },
        "id": "-y9bpLneuZJM",
        "outputId": "643746f9-4769-4c14-ce07-b706b96be93a"
      },
      "execution_count": 20,
      "outputs": [
        {
          "output_type": "stream",
          "name": "stderr",
          "text": [
            "/content/spark-3.2.2-bin-hadoop3.2/python/pyspark/sql/context.py:127: FutureWarning: Deprecated in 3.0.0. Use SparkSession.builder.getOrCreate() instead.\n",
            "  FutureWarning\n"
          ]
        },
        {
          "output_type": "execute_result",
          "data": {
            "text/plain": [
              "array([[ 1.        ,  0.02691988, -0.00564813],\n",
              "       [ 0.02691988,  1.        ,  0.32318326],\n",
              "       [-0.00564813,  0.32318326,  1.        ]])"
            ]
          },
          "metadata": {},
          "execution_count": 20
        }
      ]
    },
    {
      "cell_type": "code",
      "source": [
        "model.intercept"
      ],
      "metadata": {
        "colab": {
          "base_uri": "https://localhost:8080/"
        },
        "id": "1xqkZ6A_uckk",
        "outputId": "dd2fc51b-e56b-4ca6-cd5d-801e3145e881"
      },
      "execution_count": 21,
      "outputs": [
        {
          "output_type": "execute_result",
          "data": {
            "text/plain": [
              "165.4874689145887"
            ]
          },
          "metadata": {},
          "execution_count": 21
        }
      ]
    },
    {
      "cell_type": "code",
      "source": [
        "model.coefficients"
      ],
      "metadata": {
        "colab": {
          "base_uri": "https://localhost:8080/"
        },
        "id": "o7XORAHnugWQ",
        "outputId": "cf3542f6-3363-4165-b181-d515b689b7cc"
      },
      "execution_count": 22,
      "outputs": [
        {
          "output_type": "execute_result",
          "data": {
            "text/plain": [
              "DenseVector([-0.0, 0.0319, -0.0368])"
            ]
          },
          "metadata": {},
          "execution_count": 22
        }
      ]
    },
    {
      "cell_type": "code",
      "source": [
        "model.summary.pValues"
      ],
      "metadata": {
        "colab": {
          "base_uri": "https://localhost:8080/"
        },
        "id": "w2pvaT0sujOF",
        "outputId": "ecf88185-62d8-4496-8cc7-76d2608b4298"
      },
      "execution_count": 23,
      "outputs": [
        {
          "output_type": "execute_result",
          "data": {
            "text/plain": [
              "[0.0, 0.0, 0.0, 0.0]"
            ]
          },
          "metadata": {},
          "execution_count": 23
        }
      ]
    },
    {
      "cell_type": "code",
      "source": [
        "model.summary.r2adj"
      ],
      "metadata": {
        "colab": {
          "base_uri": "https://localhost:8080/"
        },
        "id": "IOJknKfXullw",
        "outputId": "5b1dca56-bdd5-45d3-ac95-5ef563f3608c"
      },
      "execution_count": 24,
      "outputs": [
        {
          "output_type": "execute_result",
          "data": {
            "text/plain": [
              "0.003148910703549168"
            ]
          },
          "metadata": {},
          "execution_count": 24
        }
      ]
    },
    {
      "cell_type": "code",
      "source": [
        "prediction_result = model.evaluate(test_data)\n",
        "prediction_result.predictions.show()"
      ],
      "metadata": {
        "colab": {
          "base_uri": "https://localhost:8080/"
        },
        "id": "g8B3ntjRupeA",
        "outputId": "2e6e2ece-8c78-46a7-cd8e-771caad22044"
      },
      "execution_count": 25,
      "outputs": [
        {
          "output_type": "stream",
          "name": "stdout",
          "text": [
            "+--------------------+-----+-------------------+\n",
            "|Independent features|click|         prediction|\n",
            "+--------------------+-----+-------------------+\n",
            "| [1.41021E7,0.0,0.0]|    0|0.20340022083834697|\n",
            "| [1.41021E7,0.0,0.0]|    0|0.20340022083834697|\n",
            "| [1.41021E7,0.0,0.0]|    0|0.20340022083834697|\n",
            "| [1.41021E7,0.0,0.0]|    0|0.20340022083834697|\n",
            "| [1.41021E7,0.0,0.0]|    0|0.20340022083834697|\n",
            "| [1.41021E7,0.0,0.0]|    0|0.20340022083834697|\n",
            "| [1.41021E7,0.0,0.0]|    0|0.20340022083834697|\n",
            "| [1.41021E7,0.0,0.0]|    0|0.20340022083834697|\n",
            "| [1.41021E7,0.0,0.0]|    0|0.20340022083834697|\n",
            "| [1.41021E7,0.0,0.0]|    0|0.20340022083834697|\n",
            "| [1.41021E7,0.0,0.0]|    0|0.20340022083834697|\n",
            "| [1.41021E7,0.0,0.0]|    0|0.20340022083834697|\n",
            "| [1.41021E7,0.0,0.0]|    0|0.20340022083834697|\n",
            "| [1.41021E7,0.0,0.0]|    0|0.20340022083834697|\n",
            "| [1.41021E7,0.0,0.0]|    0|0.20340022083834697|\n",
            "| [1.41021E7,0.0,0.0]|    0|0.20340022083834697|\n",
            "| [1.41021E7,0.0,0.0]|    0|0.20340022083834697|\n",
            "| [1.41021E7,0.0,0.0]|    0|0.20340022083834697|\n",
            "| [1.41021E7,0.0,0.0]|    0|0.20340022083834697|\n",
            "| [1.41021E7,0.0,0.0]|    0|0.20340022083834697|\n",
            "+--------------------+-----+-------------------+\n",
            "only showing top 20 rows\n",
            "\n"
          ]
        }
      ]
    },
    {
      "cell_type": "code",
      "source": [
        "prediction_result.meanAbsoluteError, prediction_result.meanSquaredError"
      ],
      "metadata": {
        "colab": {
          "base_uri": "https://localhost:8080/"
        },
        "id": "fyu3fLhzusSm",
        "outputId": "68111f69-c677-41d9-caa8-3009008667c1"
      },
      "execution_count": 26,
      "outputs": [
        {
          "output_type": "execute_result",
          "data": {
            "text/plain": [
              "(0.2810405528485837, 0.1405016907340965)"
            ]
          },
          "metadata": {},
          "execution_count": 26
        }
      ]
    },
    {
      "cell_type": "markdown",
      "source": [
        "**Explicación del proceso seguido:**\n",
        "El dataset evalua el rendimiento de los anuncios. Los sistemas de predicción de clics son esenciales y se utilizan ampliamente para la búsqueda patrocinada y las ofertas en tiempo real.\n",
        "\n",
        "\n",
        "## **Proceso:**\n",
        "*Preparacion de datos:*\n",
        "Para poder introducir los datos a el modelo, se deben convertir los tipos de datos de string a integer. Tambien se deben eliminar aquellas columnas que no sean tan relevantes para hacer más ligera la ejecución del modelo.\n",
        "\n",
        " *Modelación:*\n",
        "Para la modelación utilicé la libreria ***pyspark.ml***. Primero ingresamos todas las variables independientes en un vector usando ***vector assembler***, posteriormente se integran al dataframe utilizando un ***tranform ***, Después hice la division de los datasets de entrenamiento y pruebas. Finalmente entene un modelo de regresión lineal."
      ],
      "metadata": {
        "id": "CnGbkjuZyG-g"
      }
    }
  ]
}